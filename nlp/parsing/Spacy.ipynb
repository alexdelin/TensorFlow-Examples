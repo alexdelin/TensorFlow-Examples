{
 "cells": [
  {
   "cell_type": "code",
   "execution_count": 1,
   "metadata": {
    "collapsed": true
   },
   "outputs": [],
   "source": [
    "import spacy"
   ]
  },
  {
   "cell_type": "code",
   "execution_count": 4,
   "metadata": {
    "collapsed": false
   },
   "outputs": [],
   "source": [
    "nlp = spacy.load('en')"
   ]
  },
  {
   "cell_type": "code",
   "execution_count": 57,
   "metadata": {
    "collapsed": false
   },
   "outputs": [],
   "source": [
    "doc = nlp(u\"apples and oranges are fruits. Alex lives in New York City. My stereo is awesome. IBM's revenue decreased this past quarter\")"
   ]
  },
  {
   "cell_type": "code",
   "execution_count": 58,
   "metadata": {
    "collapsed": false
   },
   "outputs": [
    {
     "name": "stdout",
     "output_type": "stream",
     "text": [
      "apples - (apple) NOUN\n",
      "and - (and) CONJ\n",
      "oranges - (orange) NOUN\n",
      "are - (be) VERB\n",
      "fruits - (fruit) NOUN\n",
      ". - (.) PUNCT\n",
      "Alex - (alex) PROPN\n",
      "lives - (live) VERB\n",
      "in - (in) ADP\n",
      "New - (new) PROPN\n",
      "York - (york) PROPN\n",
      "City - (city) PROPN\n",
      ". - (.) PUNCT\n",
      "My - (my) ADJ\n",
      "stereo - (stereo) NOUN\n",
      "is - (be) VERB\n",
      "awesome - (awesome) ADJ\n",
      ". - (.) PUNCT\n",
      "IBM - (ibm) PROPN\n",
      "'s - ('s) PART\n",
      "revenue - (revenue) NOUN\n",
      "decreased - (decrease) VERB\n",
      "this - (this) DET\n",
      "past - (past) ADJ\n",
      "quarter - (quarter) NOUN\n"
     ]
    }
   ],
   "source": [
    "# Get root words (lemmas) and part of speech tags for each word in a sentence\n",
    "for word in doc:\n",
    "    print '{} - ({}) {}'.format(word, word.lemma_, word.pos_)"
   ]
  },
  {
   "cell_type": "code",
   "execution_count": 54,
   "metadata": {
    "collapsed": false
   },
   "outputs": [
    {
     "name": "stdout",
     "output_type": "stream",
     "text": [
      "are\n",
      "lives\n",
      "is\n",
      "decreased\n"
     ]
    }
   ],
   "source": [
    "# Get the root of a sentence\n",
    "for sentence in doc.sents:\n",
    "    print sentence.root"
   ]
  },
  {
   "cell_type": "code",
   "execution_count": 50,
   "metadata": {
    "collapsed": false
   },
   "outputs": [
    {
     "name": "stdout",
     "output_type": "stream",
     "text": [
      "Apples\n",
      "New York City\n",
      "IBM\n",
      "this past quarter\n"
     ]
    }
   ],
   "source": [
    "# Get entities in a sentence\n",
    "for entity in doc.ents:\n",
    "    print entity"
   ]
  },
  {
   "cell_type": "code",
   "execution_count": 51,
   "metadata": {
    "collapsed": false
   },
   "outputs": [
    {
     "name": "stdout",
     "output_type": "stream",
     "text": [
      "Apples\n",
      "oranges\n",
      "fruits\n",
      "Alex\n",
      "New York City\n",
      "My stereo\n",
      "IBM's revenue\n"
     ]
    }
   ],
   "source": [
    "# Get 'Noun Chunks' in a sentence\n",
    "for chunk in doc.noun_chunks:\n",
    "    print chunk"
   ]
  },
  {
   "cell_type": "code",
   "execution_count": 44,
   "metadata": {
    "collapsed": false
   },
   "outputs": [
    {
     "data": {
      "text/plain": [
       "0.39289962273325485"
      ]
     },
     "execution_count": 44,
     "metadata": {},
     "output_type": "execute_result"
    }
   ],
   "source": [
    "# Examine similarity ... how does it do this?\n",
    "word1 = doc[0]\n",
    "word2 = doc[2]\n",
    "word1.similarity(word2)"
   ]
  },
  {
   "cell_type": "code",
   "execution_count": null,
   "metadata": {
    "collapsed": false
   },
   "outputs": [],
   "source": []
  },
  {
   "cell_type": "code",
   "execution_count": null,
   "metadata": {
    "collapsed": true
   },
   "outputs": [],
   "source": []
  }
 ],
 "metadata": {
  "kernelspec": {
   "display_name": "Python 2",
   "language": "python",
   "name": "python2"
  },
  "language_info": {
   "codemirror_mode": {
    "name": "ipython",
    "version": 2
   },
   "file_extension": ".py",
   "mimetype": "text/x-python",
   "name": "python",
   "nbconvert_exporter": "python",
   "pygments_lexer": "ipython2",
   "version": "2.7.10"
  }
 },
 "nbformat": 4,
 "nbformat_minor": 0
}
